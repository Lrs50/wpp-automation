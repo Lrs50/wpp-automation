{
 "cells": [
  {
   "cell_type": "markdown",
   "metadata": {},
   "source": [
    "# Whatsapp Automation"
   ]
  },
  {
   "cell_type": "code",
   "execution_count": 1,
   "metadata": {},
   "outputs": [
    {
     "data": {
      "text/plain": [
       "True"
      ]
     },
     "execution_count": 1,
     "metadata": {},
     "output_type": "execute_result"
    }
   ],
   "source": [
    "from dotenv import load_dotenv\n",
    "import os\n",
    "from heyoo import WhatsApp\n",
    "\n",
    "# Load the .env file\n",
    "load_dotenv()"
   ]
  },
  {
   "cell_type": "code",
   "execution_count": 2,
   "metadata": {},
   "outputs": [],
   "source": [
    "wpp_token = os.getenv(\"wpp_token\")\n",
    "chatbot_number = os.getenv(\"chatbot_number\")\n",
    "personal_number = os.getenv(\"personal_number\")\n",
    "carol_number = os.getenv(\"carol_number\")"
   ]
  },
  {
   "cell_type": "code",
   "execution_count": 3,
   "metadata": {},
   "outputs": [
    {
     "data": {
      "text/plain": [
       "{'messaging_product': 'whatsapp',\n",
       " 'contacts': [{'input': '5581989478819', 'wa_id': '558189478819'}],\n",
       " 'messages': [{'id': 'wamid.HBgMNTU4MTg5NDc4ODE5FQIAERgSMTdBQzQwRjQxRjdBQjQ0Njk2AA=='}]}"
      ]
     },
     "execution_count": 3,
     "metadata": {},
     "output_type": "execute_result"
    }
   ],
   "source": [
    "messenger = WhatsApp(wpp_token,phone_number_id=chatbot_number)\n",
    "# For sending a Text messages\n",
    "messenger.send_message('VOCE QUE VAI DAR O SEU CU DE 4, E EU VOU ARREGAÇAR', carol_number)"
   ]
  }
 ],
 "metadata": {
  "kernelspec": {
   "display_name": "venv",
   "language": "python",
   "name": "python3"
  },
  "language_info": {
   "codemirror_mode": {
    "name": "ipython",
    "version": 3
   },
   "file_extension": ".py",
   "mimetype": "text/x-python",
   "name": "python",
   "nbconvert_exporter": "python",
   "pygments_lexer": "ipython3",
   "version": "3.10.7"
  }
 },
 "nbformat": 4,
 "nbformat_minor": 2
}
