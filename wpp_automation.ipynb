{
 "cells": [
  {
   "cell_type": "markdown",
   "metadata": {},
   "source": [
    "# Whatsapp Automation"
   ]
  },
  {
   "cell_type": "code",
   "execution_count": 1,
   "metadata": {},
   "outputs": [
    {
     "data": {
      "text/plain": [
       "True"
      ]
     },
     "execution_count": 1,
     "metadata": {},
     "output_type": "execute_result"
    }
   ],
   "source": [
    "from dotenv import load_dotenv\n",
    "import os\n",
    "from heyoo import WhatsApp\n",
    "\n",
    "# Load the .env file\n",
    "load_dotenv()"
   ]
  },
  {
   "cell_type": "code",
   "execution_count": 2,
   "metadata": {},
   "outputs": [],
   "source": [
    "wpp_token = os.getenv(\"wpp_token\")\n",
    "chatbot_number = os.getenv(\"chatbot_number\")\n",
    "personal_number = os.getenv(\"personal_number\")\n",
    "carol_number = os.getenv(\"carol_number\")"
   ]
  },
  {
   "cell_type": "code",
   "execution_count": null,
   "metadata": {},
   "outputs": [
    {
     "data": {
      "text/plain": [
       "{'messaging_product': 'whatsapp',\n",
       " 'contacts': [{'input': '5581989478819', 'wa_id': '558189478819'}],\n",
       " 'messages': [{'id': 'wamid.HBgMNTU4MTg5NDc4ODE5FQIAERgSMTdBQzQwRjQxRjdBQjQ0Njk2AA=='}]}"
      ]
     },
     "execution_count": 3,
     "metadata": {},
     "output_type": "execute_result"
    }
   ],
   "source": [
    "messenger = WhatsApp(wpp_token,phone_number_id=chatbot_number)\n",
    "# For sending a Text messages\n",
    "messenger.send_message('', carol_number)"
   ]
  },
  {
   "cell_type": "code",
   "execution_count": null,
   "metadata": {},
   "outputs": [
    {
     "data": {
      "text/plain": [
       "'\\n{\\n    \"object\": \"whatsapp_business_account\",\\n    \"entry\": [\\n        {\\n            \"id\": \"530861086404198\",\\n            \"changes\": [\\n                {\\n                    \"value\": {\\n                        \"messaging_product\": \"whatsapp\",\\n                        \"metadata\": {\\n                            \"display_phone_number\": \"15556479575\",\\n                            \"phone_number_id\": \"631900040002412\"\\n                        },\\n                        \"contacts\": [\\n                            {\\n                                \"profile\": {\\n                                    \"name\": \"Lucas Reis\"\\n                                },\\n                                \"wa_id\": \"557599646980\"\\n                            }\\n                        ],\\n                        \"messages\": [\\n                            {\\n                                \"from\": \"557599646980\",\\n                                \"id\": \"wamid.HBgMNTU3NTk5NjQ2OTgwFQIAEhgUM0ZDMDkxNzk5MzY0NjlBQzNCQ0YA\",\\n                                \"timestamp\": \"1743797149\",\\n                                \"text\": {\\n                                    \"body\": \"testando\"\\n                                },\\n                                \"type\": \"text\"\\n                            }\\n                        ]\\n                    },\\n                    \"field\": \"messages\"\\n                }\\n            ]\\n        }\\n    ]\\n}\\n\\n'"
      ]
     },
     "execution_count": 4,
     "metadata": {},
     "output_type": "execute_result"
    }
   ],
   "source": [
    "\"\"\"\n",
    "{\n",
    "    \"object\": \"whatsapp_business_account\",\n",
    "    \"entry\": [\n",
    "        {\n",
    "            \"id\": \"530861086404198\",\n",
    "            \"changes\": [\n",
    "                {\n",
    "                    \"value\": {\n",
    "                        \"messaging_product\": \"whatsapp\",\n",
    "                        \"metadata\": {\n",
    "                            \"display_phone_number\": \"15556479575\",\n",
    "                            \"phone_number_id\": \"631900040002412\"\n",
    "                        },\n",
    "                        \"contacts\": [\n",
    "                            {\n",
    "                                \"profile\": {\n",
    "                                    \"name\": \"Lucas Reis\"\n",
    "                                },\n",
    "                                \"wa_id\": \"557599646980\"\n",
    "                            }\n",
    "                        ],\n",
    "                        \"messages\": [\n",
    "                            {\n",
    "                                \"from\": \"557599646980\",\n",
    "                                \"id\": \"wamid.HBgMNTU3NTk5NjQ2OTgwFQIAEhgUM0ZDMDkxNzk5MzY0NjlBQzNCQ0YA\",\n",
    "                                \"timestamp\": \"1743797149\",\n",
    "                                \"text\": {\n",
    "                                    \"body\": \"testando\"\n",
    "                                },\n",
    "                                \"type\": \"text\"\n",
    "                            }\n",
    "                        ]\n",
    "                    },\n",
    "                    \"field\": \"messages\"\n",
    "                }\n",
    "            ]\n",
    "        }\n",
    "    ]\n",
    "}\n",
    "{\n",
    "    \"object\": \"whatsapp_business_account\",\n",
    "    \"entry\": [\n",
    "        {\n",
    "            \"id\": \"530861086404198\",\n",
    "            \"changes\": [\n",
    "                {\n",
    "                    \"value\": {\n",
    "                        \"messaging_product\": \"whatsapp\",\n",
    "                        \"metadata\": {\n",
    "                            \"display_phone_number\": \"15556479575\",\n",
    "                            \"phone_number_id\": \"631900040002412\"\n",
    "                        },\n",
    "                        \"contacts\": [\n",
    "                            {\n",
    "                                \"profile\": {\n",
    "                                    \"name\": \"Lucas Reis\"\n",
    "                                },\n",
    "                                \"wa_id\": \"557599646980\"\n",
    "                            }\n",
    "                        ],\n",
    "                        \"messages\": [\n",
    "                            {\n",
    "                                \"from\": \"557599646980\",\n",
    "                                \"id\": \"wamid.HBgMNTU3NTk5NjQ2OTgwFQIAEhggQ0YzQUQ5RDM0MDNGNTJCOTU1OUZEQjhBRjFENDg3RTYA\",\n",
    "                                \"timestamp\": \"1743797190\",\n",
    "                                \"type\": \"reaction\",\n",
    "                                \"reaction\": {\n",
    "                                    \"message_id\": \"wamid.HBgMNTU3NTk5NjQ2OTgwFQIAERgSQkIxQjlFNjVBODE4OEZFMDYyAA==\",\n",
    "                                    \"emoji\": \"❤️\"\n",
    "                                }\n",
    "                            }\n",
    "                        ]\n",
    "                    },\n",
    "                    \"field\": \"messages\"\n",
    "                }\n",
    "            ]\n",
    "        }\n",
    "    ]\n",
    "}\n",
    "\"\"\""
   ]
  },
  {
   "cell_type": "code",
   "execution_count": null,
   "metadata": {},
   "outputs": [],
   "source": []
  },
  {
   "cell_type": "code",
   "execution_count": null,
   "metadata": {},
   "outputs": [],
   "source": []
  }
 ],
 "metadata": {
  "kernelspec": {
   "display_name": "venv",
   "language": "python",
   "name": "python3"
  },
  "language_info": {
   "codemirror_mode": {
    "name": "ipython",
    "version": 3
   },
   "file_extension": ".py",
   "mimetype": "text/x-python",
   "name": "python",
   "nbconvert_exporter": "python",
   "pygments_lexer": "ipython3",
   "version": "3.10.7"
  }
 },
 "nbformat": 4,
 "nbformat_minor": 2
}
